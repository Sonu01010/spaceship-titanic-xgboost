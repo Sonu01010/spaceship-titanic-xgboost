{
  "nbformat": 4,
  "nbformat_minor": 0,
  "metadata": {
    "colab": {
      "provenance": []
    },
    "kernelspec": {
      "name": "python3",
      "display_name": "Python 3"
    },
    "language_info": {
      "name": "python"
    }
  },
  "cells": [
    {
      "cell_type": "code",
      "execution_count": 2,
      "metadata": {
        "colab": {
          "base_uri": "https://localhost:8080/"
        },
        "id": "eSYUX4glAgT0",
        "outputId": "e4487aaa-1b5f-4530-f357-b3170a3d1d61"
      },
      "outputs": [
        {
          "output_type": "stream",
          "name": "stdout",
          "text": [
            "Logistic Regression Accuracy: 0.7768832662449684\n",
            "Decision Tree Accuracy: 0.7377803335250144\n",
            "Random Forest Accuracy: 0.7975848188614146\n",
            "XGBoost Accuracy: 0.7952846463484762\n",
            "✅ submission.csv ready for upload!\n"
          ]
        },
        {
          "output_type": "stream",
          "name": "stderr",
          "text": [
            "/usr/local/lib/python3.11/dist-packages/xgboost/core.py:158: UserWarning: [13:52:09] WARNING: /workspace/src/learner.cc:740: \n",
            "Parameters: { \"use_label_encoder\" } are not used.\n",
            "\n",
            "  warnings.warn(smsg, UserWarning)\n"
          ]
        }
      ],
      "source": [
        "# STEP 1: Import Libraries\n",
        "import pandas as pd\n",
        "import numpy as np\n",
        "from sklearn.model_selection import train_test_split\n",
        "from sklearn.preprocessing import LabelEncoder, StandardScaler\n",
        "from sklearn.linear_model import LogisticRegression\n",
        "from sklearn.tree import DecisionTreeClassifier\n",
        "from sklearn.ensemble import RandomForestClassifier\n",
        "import xgboost as xgb\n",
        "from sklearn.metrics import accuracy_score\n",
        "\n",
        "# STEP 2: Load the datasets\n",
        "train = pd.read_csv(\"train.csv\")\n",
        "test = pd.read_csv(\"test.csv\")\n",
        "\n",
        "# Store test PassengerIds for submission\n",
        "test_passenger_ids = test[\"PassengerId\"]\n",
        "\n",
        "# Separate target variable before combining\n",
        "y = train[\"Transported\"].astype(int)\n",
        "X = train.drop([\"Transported\", \"PassengerId\"], axis=1)\n",
        "X_test = test.drop(\"PassengerId\", axis=1)\n",
        "\n",
        "# STEP 3: Combine train and test for uniform preprocessing (excluding target from train)\n",
        "combined = pd.concat([X, X_test], ignore_index=True)\n",
        "\n",
        "\n",
        "# STEP 4: Handle missing values + Label Encoding\n",
        "for col in combined.columns:\n",
        "    if combined[col].dtype == 'object' or pd.api.types.is_string_dtype(combined[col]):\n",
        "        combined[col] = combined[col].fillna(\"Missing\")\n",
        "        le = LabelEncoder()\n",
        "        combined[col] = le.fit_transform(combined[col].astype(str))\n",
        "    else:\n",
        "        combined[col] = combined[col].fillna(combined[col].median())\n",
        "\n",
        "# STEP 5: Separate train and test again\n",
        "X_clean = combined.iloc[:len(X)].copy()\n",
        "X_test_clean = combined.iloc[len(X):].copy()\n",
        "\n",
        "\n",
        "# STEP 6: Scale features\n",
        "scaler = StandardScaler()\n",
        "X_scaled = scaler.fit_transform(X_clean)\n",
        "X_test_scaled = scaler.transform(X_test_clean)\n",
        "\n",
        "# STEP 7: Train-test split\n",
        "X_train, X_val, y_train, y_val = train_test_split(X_scaled, y, test_size=0.2, random_state=42, stratify=y)\n",
        "\n",
        "# STEP 8: Train models\n",
        "lr = LogisticRegression()\n",
        "lr.fit(X_train, y_train)\n",
        "lr_acc = accuracy_score(y_val, lr.predict(X_val))\n",
        "\n",
        "dt = DecisionTreeClassifier()\n",
        "dt.fit(X_train, y_train) # Corrected: use y_train\n",
        "dt_acc = accuracy_score(y_val, dt.predict(X_val))\n",
        "\n",
        "rf = RandomForestClassifier()\n",
        "rf.fit(X_train, y_train)\n",
        "rf_acc = accuracy_score(y_val, rf.predict(X_val))\n",
        "\n",
        "xg = xgb.XGBClassifier(use_label_encoder=False, eval_metric=\"logloss\")\n",
        "xg.fit(X_train, y_train)\n",
        "xg_acc = accuracy_score(y_val, xg.predict(X_val))\n",
        "\n",
        "# STEP 9: Print Accuracy\n",
        "print(\"Logistic Regression Accuracy:\", lr_acc)\n",
        "print(\"Decision Tree Accuracy:\", dt_acc)\n",
        "print(\"Random Forest Accuracy:\", rf_acc)\n",
        "print(\"XGBoost Accuracy:\", xg_acc)\n",
        "\n",
        "# STEP 10: Final prediction\n",
        "final_model = xg  # Choose best\n",
        "test_preds = final_model.predict(X_test_scaled)\n",
        "\n",
        "# STEP 11: Submission CSV\n",
        "submission = pd.DataFrame({\n",
        "    \"PassengerId\": test_passenger_ids,\n",
        "    \"Transported\": test_preds.astype(bool)\n",
        "})\n",
        "submission.to_csv(\"submission.csv\", index=False)\n",
        "print(\"✅ submission.csv ready for upload!\")"
      ]
    },
    {
      "cell_type": "code",
      "source": [
        "from google.colab import files\n",
        "files.download('submission.csv')"
      ],
      "metadata": {
        "colab": {
          "base_uri": "https://localhost:8080/",
          "height": 17
        },
        "id": "KCBSpnT7YV8R",
        "outputId": "9087f4a5-1092-4ff8-a6bb-c3b22a4eb2c5"
      },
      "execution_count": 4,
      "outputs": [
        {
          "output_type": "display_data",
          "data": {
            "text/plain": [
              "<IPython.core.display.Javascript object>"
            ],
            "application/javascript": [
              "\n",
              "    async function download(id, filename, size) {\n",
              "      if (!google.colab.kernel.accessAllowed) {\n",
              "        return;\n",
              "      }\n",
              "      const div = document.createElement('div');\n",
              "      const label = document.createElement('label');\n",
              "      label.textContent = `Downloading \"${filename}\": `;\n",
              "      div.appendChild(label);\n",
              "      const progress = document.createElement('progress');\n",
              "      progress.max = size;\n",
              "      div.appendChild(progress);\n",
              "      document.body.appendChild(div);\n",
              "\n",
              "      const buffers = [];\n",
              "      let downloaded = 0;\n",
              "\n",
              "      const channel = await google.colab.kernel.comms.open(id);\n",
              "      // Send a message to notify the kernel that we're ready.\n",
              "      channel.send({})\n",
              "\n",
              "      for await (const message of channel.messages) {\n",
              "        // Send a message to notify the kernel that we're ready.\n",
              "        channel.send({})\n",
              "        if (message.buffers) {\n",
              "          for (const buffer of message.buffers) {\n",
              "            buffers.push(buffer);\n",
              "            downloaded += buffer.byteLength;\n",
              "            progress.value = downloaded;\n",
              "          }\n",
              "        }\n",
              "      }\n",
              "      const blob = new Blob(buffers, {type: 'application/binary'});\n",
              "      const a = document.createElement('a');\n",
              "      a.href = window.URL.createObjectURL(blob);\n",
              "      a.download = filename;\n",
              "      div.appendChild(a);\n",
              "      a.click();\n",
              "      div.remove();\n",
              "    }\n",
              "  "
            ]
          },
          "metadata": {}
        },
        {
          "output_type": "display_data",
          "data": {
            "text/plain": [
              "<IPython.core.display.Javascript object>"
            ],
            "application/javascript": [
              "download(\"download_a68b5320-d763-469c-880d-400784c34cab\", \"submission.csv\", 57772)"
            ]
          },
          "metadata": {}
        }
      ]
    }
  ]
}